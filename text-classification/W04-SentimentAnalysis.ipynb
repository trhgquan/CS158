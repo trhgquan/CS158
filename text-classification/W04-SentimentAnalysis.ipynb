{
 "cells": [
  {
   "cell_type": "markdown",
   "id": "80366e70",
   "metadata": {},
   "source": [
    "# Phân tích ý kiến (Opinion Mining) - Phân tích cảm xúc (Sentiment Analysis)\n",
    "\n",
    "Sentiment Analysis cũng là 1 bài toán Opinion Mining."
   ]
  },
  {
   "cell_type": "markdown",
   "id": "09025c5d",
   "metadata": {},
   "source": [
    "## Giới thiệu\n",
    "\n",
    "Ứng dụng:\n",
    "- Đánh giá sản phẩm\n",
    "- Bình luận bài viết\n",
    "\n",
    "Bộ nhãn:\n",
    "- 2 nhãn: positive / negative\n",
    "- 3 nhãn: good / neutral / bad\n",
    "- 5 nhãn: very good / good / neutral / bad / very bad"
   ]
  },
  {
   "cell_type": "markdown",
   "id": "2a3599f9",
   "metadata": {},
   "source": [
    "## Phân tích ý kiến\n",
    "\n",
    "Phân tích ý kiến nhằm mục đích quyết định thái độ (attitude) của người nói (speaker) về một chủ đề.\n",
    "\n",
    "- Phân tích ý kiến dựa trên khía cạnh (aspect-based sentiment analysis): xác định các khía cạnh của thực thể và ý kiến về khía cạnh đó.\n",
    "    - Polarity (2 cực) - 2 class\n",
    "    - Aspect-based sentiment analysis\n",
    "        - Aspect extraction\n",
    "        - Sentiment Classification\n",
    "    - Aspect Extraction\n",
    "        - Frequency-based approaches\n",
    "        - Supervised Learning-based approaches\n",
    "        - Topic Model-based approches\n",
    "    - Sentiment Classification\n",
    "        - ML approach\n",
    "            - Supervised learning\n",
    "                - Naive Bayes\n",
    "                - SVM\n",
    "                - Maximum Entropy\n",
    "            - Unsupervised learning\n",
    "        - Lexicon-based approach\n",
    "            - Dictionary-based approach\n",
    "            - Corpus-based approach"
   ]
  },
  {
   "cell_type": "markdown",
   "id": "b7fdc8a0",
   "metadata": {},
   "source": [
    "Dữ liệu:\n",
    "- Tagging (gán nhãn văn bản - từ loại, thực thể có tên)\n",
    "- Part-of-speech (POS-tagging)\n",
    "- Named entity recognition / tagging\n",
    "\n",
    "Thuật toán:\n",
    "- SVM\n",
    "- HMM\n",
    "- CRF\n",
    "- Neural networks"
   ]
  },
  {
   "cell_type": "markdown",
   "id": "0752f58b",
   "metadata": {},
   "source": [
    "## Rút trích khía cạnh\n",
    "\n",
    "1 từ trích xuất càng nhiều đặc trưng thì gán nhãn càng chính xác."
   ]
  },
  {
   "cell_type": "markdown",
   "id": "0ff79d36",
   "metadata": {},
   "source": [
    "## Tổng quan phương pháp\n",
    "\n",
    "Tiền xử lý:\n",
    "- Khoảng trắng, dấu câu, ..\n",
    "- Loại bỏ hư từ\n",
    "- Từ gốc\n",
    "- Xử lý phủ định\n",
    "\n",
    "Rút trích khía cạnh\n",
    "- Số lớp được biết trước và giới hạn: phân lớp / gán nhãn\n",
    "- Một bộ phân lớp cho từng khía cạnh\n",
    "- Mô hình phổ biến: SVM, Maximum Entropy"
   ]
  }
 ],
 "metadata": {
  "kernelspec": {
   "display_name": "Python 3.9.7 64-bit",
   "language": "python",
   "name": "python3"
  },
  "language_info": {
   "codemirror_mode": {
    "name": "ipython",
    "version": 3
   },
   "file_extension": ".py",
   "mimetype": "text/x-python",
   "name": "python",
   "nbconvert_exporter": "python",
   "pygments_lexer": "ipython3",
   "version": "3.9.7"
  },
  "vscode": {
   "interpreter": {
    "hash": "bea42e1b0e07028483ba0ff26b9b4dc4fa162e9d0ccb6b0507d54b9d42d30653"
   }
  }
 },
 "nbformat": 4,
 "nbformat_minor": 5
}
