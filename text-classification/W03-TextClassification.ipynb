{
 "cells": [
  {
   "cell_type": "markdown",
   "id": "660a28d6",
   "metadata": {},
   "source": [
    "# Phân lớp văn bản\n",
    "\n",
    "- Spam or not-spam?\n",
    "- Social Monitoring (theo dõi mạng xã hội).\n",
    "- Recommentation System (i.e: Movie!) - Sentiment Analysis.\n",
    "\n",
    "## Định nghĩa\n",
    "- Đầu vào:\n",
    "    - văn bản $d$\n",
    "    - tập lớp cố định $C = \\{c_1, c_2, .., c_n\\}$ (Genre, Category, Class, Label, ..etc)\n",
    "\n",
    "- Đầu ra:\n",
    "    - lớp được dự đoán $c \\in C$"
   ]
  },
  {
   "cell_type": "markdown",
   "id": "26ae2df0",
   "metadata": {},
   "source": [
    "## Phương pháp\n",
    "- Sử dụng luật:\n",
    "    - Kết hợp từ và đặc trưng (i.e email nằm trong blacklist, từ khóa nhất định, ..etc)\n",
    "    - Kết quả có thể cao\n",
    "        - Nếu luật được định nghĩa rõ ràng bởi chuyên gia\n",
    "        - Xây dựng / duy trì luật rất tốn kém\n",
    "\n",
    "- Phương pháp phân lớp:\n",
    "    - Máy học có giám sát:\n",
    "        - Đầu vào:\n",
    "            - Văn bản $d$\n",
    "            - Tập lớp cố định $C = \\{c_1, c_2, .., c_n\\}$\n",
    "            - Tập huấn luyện gồm $m$ văn bản có gán nhãn $(d_1, c_1), (d_2, c_2), .., (d_m, c_m)$\n",
    "        - Đầu ra:\n",
    "            - Bộ phân lớp $\\gamma:d \\rightarrow c$\n",
    "            \n",
    "- Các bộ phân lớp:\n",
    "    - Naive Bayes\n",
    "    - Logistic Regression\n",
    "    - SVM\n",
    "    - k-Nearest Neighbors\n",
    "    - Conditional Random Field\n",
    "    - ..."
   ]
  },
  {
   "cell_type": "markdown",
   "id": "f04e438f",
   "metadata": {},
   "source": [
    "### Subtask: Regression vs. Classification\n",
    "Tổng quan: xét bài toán $y = ax + b$. Target là tìm các tham số $a, b$.\n",
    "\n",
    "- Machine Learning\n",
    "    - Supervised learning (học có giám sát): dữ liệu $(x_1,y_1), (x_2, y_2), .., (x_n, y_n)$\n",
    "        - Regression (hồi quy): $y$ là kiểu dữ liệu liên tục (continuous number) (e.g 0, 1.2, 0.3, ..etc)\n",
    "        - Classification (phân lớp): $y$ có kiểu dữ liệu rời rạc. (e.g spam/not spam, male/female, ..etc)\n",
    "    - Unsupervised learning (học không giám sát): dữ liệu $(x_1), (x_2), .., (x_n)$"
   ]
  },
  {
   "cell_type": "markdown",
   "id": "10604692",
   "metadata": {},
   "source": [
    "## Naive Bayes\n",
    "\n",
    "### Giới thiệu:\n",
    "- Phương pháp đơn giản dựa trên định luật Bayes\n",
    "- Sử dụng phương pháp biểu diễn văn bản đơn giản: túi từ (BOW - Bag of Words)\n",
    "\n",
    "### Bộ phân lớp Naive Bayes:\n",
    "- Cho văn bản $d$ và lớp $c$.\n",
    "\n",
    "$$\n",
    "P(c | d) = \\frac{P(d | c)P(c)}{P(d)}\n",
    "$$\n",
    "\n",
    "$$\n",
    "C_{\\text{MAP}} = \\text{argmax}_{c \\in C}P(c | d) \n",
    "$$\n",
    "\n",
    "(*MAP: Maximum a posteriori*, a posteriori = hậu nghiệm, đã nhắc đến trong 1 notebook nào đó bên CSC15003).\n",
    "\n",
    "$$\n",
    "= \\text{argmax}_{c \\in C}\\frac{P(d | c)P(c)}{P(d)} \n",
    "$$\n",
    "\n",
    "$$\n",
    "=\\text{argmax}_{c \\in C}P(d | c)P(c)\n",
    "$$\n",
    "\n",
    "- Nếu $d = x_1x_2..x_n$\n",
    "\n",
    "$$\n",
    "=\\text{argmax}_{c \\in C}P(x_1, x_2, .., x_n | c)P(c)\n",
    "$$\n",
    "\n",
    "- Nhận xét: có thể phải thực hiện số lượng lớn phép tính."
   ]
  },
  {
   "cell_type": "markdown",
   "id": "8d8c4bfd",
   "metadata": {},
   "source": [
    "- Giả định BOW: vị trí không quan trọng!\n",
    "- Độc lập điều kiện: giả định đặc trưng xác suất $P(x_i, c)$ là độc lập: $P(x_1, x_2, .., x_n | c) = P(x_1 | c)\\cdot P(x_2 | c)\\cdot .. \\cdot P(x_n | c)$"
   ]
  },
  {
   "cell_type": "markdown",
   "id": "7a54ef90",
   "metadata": {},
   "source": [
    "Công thức tổng quát:\n",
    "- Cho văn bản $d$ và lớp $c$:\n",
    "$$\n",
    "C_{\\text{MAP}} = \\text{argmax}_{c \\in C}P(x_1, x_2, .., x_n | c)P(c)\n",
    "$$\n",
    "\n",
    "$$\n",
    "C_{\\text{NB}} = \\text{argmax}_{c \\in C}P(c_j)\\prod_{x\\in X} P(x | c) \n",
    "$$\n",
    "\n",
    "$$\n",
    "C_{\\text{NB}} = \\text{argmax}_{c_j \\in C}P(c_j)\\prod_{i} P(x_i | c_j)\n",
    "$$\n"
   ]
  },
  {
   "cell_type": "markdown",
   "id": "d869b75c",
   "metadata": {},
   "source": [
    "Huấn luyện: ước lượng tương đồng cực đại (MLE)\n",
    "- Sử dụng tần suất xuất hiện trong dữ liệu:\n",
    "\n",
    "$$\n",
    "\\hat{P}(c_j) = \\frac{\\text{count}(C = c_j)}{N_{\\text{doc}}}\n",
    "$$\n",
    "\n",
    "$$\n",
    "\\hat{P}(w_i | c_j) =\\frac{\\text{count}(w_i, c_j)}{\\sum_{w\\in V} \\text{count}(w, c_j)}\n",
    "$$\n",
    "**Chú ý**: $V$ là tập từ vựng.\n",
    "\n",
    "Vấn đề của MLE:\n",
    "- Từ không xuất hiện trong ngữ liệu huấn luyện\n",
    "- Giải quyết: 1-Replace (Laplace) - giống như trong LM.\n",
    "\n",
    "$$\n",
    "\\hat{P}(w_i | c_j) =\\frac{\\text{count}(w_i, c_j) + 1}{\\left(\\sum_{w\\in V} \\text{count}(w, c_j)\\right) + |V|}\n",
    "$$\n"
   ]
  },
  {
   "cell_type": "markdown",
   "id": "9da4a410",
   "metadata": {},
   "source": [
    "### Đánh giá mô hình\n",
    "- Độ chính xác (Precision - $P$): % chọn đúng\n",
    "- Độ bao phủ (Recall - $R$): % item được chọn\n",
    "- Độ $F$: kết hợp giữa $P$ và $R$\n",
    "$$\n",
    "F = \\frac{1}{\\alpha\\frac{1}{P} + (1 - \\alpha)\\frac{1}{R}} = \\frac{(\\beta^2 + 1)PR}{\\beta^2P + R}\n",
    "$$\n",
    "\n",
    "$$\n",
    "\\Rightarrow F = \\frac{2PR}{P + R}\\ (\\beta = 1)\n",
    "$$\n"
   ]
  }
 ],
 "metadata": {
  "kernelspec": {
   "display_name": "Python 3.9.7 64-bit",
   "language": "python",
   "name": "python3"
  },
  "language_info": {
   "codemirror_mode": {
    "name": "ipython",
    "version": 3
   },
   "file_extension": ".py",
   "mimetype": "text/x-python",
   "name": "python",
   "nbconvert_exporter": "python",
   "pygments_lexer": "ipython3",
   "version": "3.9.7"
  },
  "vscode": {
   "interpreter": {
    "hash": "bea42e1b0e07028483ba0ff26b9b4dc4fa162e9d0ccb6b0507d54b9d42d30653"
   }
  }
 },
 "nbformat": 4,
 "nbformat_minor": 5
}
