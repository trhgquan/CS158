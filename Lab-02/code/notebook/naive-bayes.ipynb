{
 "cells": [
  {
   "cell_type": "markdown",
   "metadata": {},
   "source": [
    "# Vẫn là Naive Bayes, nhưng dùng sklearn!"
   ]
  },
  {
   "cell_type": "code",
   "execution_count": 1,
   "metadata": {},
   "outputs": [],
   "source": [
    "from sklearn.feature_extraction.text import TfidfVectorizer\n",
    "from sklearn.naive_bayes import MultinomialNB, BernoulliNB\n",
    "from sklearn.metrics import accuracy_score, classification_report, confusion_matrix\n",
    "from imblearn.over_sampling import RandomOverSampler\n",
    "from nltk import word_tokenize\n",
    "\n",
    "import seaborn as sns\n",
    "import re, string\n",
    "import matplotlib.pyplot as plt"
   ]
  },
  {
   "cell_type": "code",
   "execution_count": 2,
   "metadata": {},
   "outputs": [],
   "source": [
    "def parsing(sentence : str) -> tuple:\n",
    "    sentence_class = int(sentence[0].strip())\n",
    "    sentence = sentence[1:].strip()\n",
    "\n",
    "    punctuations = '[{0}]'.format(string.punctuation)\n",
    "\n",
    "    sentence = sentence.lower()\n",
    "    sentence = re.sub('\\w*\\d\\w*', '', sentence)\n",
    "    sentence = re.sub(punctuations, '', sentence)\n",
    "\n",
    "    return (sentence, sentence_class)"
   ]
  },
  {
   "cell_type": "code",
   "execution_count": 3,
   "metadata": {},
   "outputs": [],
   "source": [
    "def tokenize(sentence):\n",
    "    return word_tokenize(sentence)"
   ]
  },
  {
   "cell_type": "code",
   "execution_count": 4,
   "metadata": {},
   "outputs": [],
   "source": [
    "with open('../data/TREC.train.all', 'r+') as f:\n",
    "    train_sentences, train_classes = [], []\n",
    "    for line in f.readlines():\n",
    "        sentence, sentence_class = parsing(line.strip().lower())\n",
    "        train_sentences.append(sentence)\n",
    "        train_classes.append(sentence_class)\n",
    "\n",
    "\n",
    "with open('../data/TREC.test.all', 'r+') as f:\n",
    "    test_sentences, test_classes = [], []\n",
    "    for line in f.readlines():\n",
    "        sentence, sentence_class = parsing(line.lower().strip())\n",
    "        test_sentences.append(sentence)\n",
    "        test_classes.append(sentence_class)\n",
    "\n",
    "with open('../data/stopwords.txt', 'r+') as f:\n",
    "    stopwords = []\n",
    "    for line in f.readlines():\n",
    "        stopwords.append(line.strip().lower())"
   ]
  },
  {
   "cell_type": "code",
   "execution_count": 5,
   "metadata": {},
   "outputs": [
    {
     "name": "stdout",
     "output_type": "stream",
     "text": [
      "5452 5452\n",
      "500 500\n"
     ]
    }
   ],
   "source": [
    "print(len(train_sentences), len(train_classes))\n",
    "print(len(test_sentences), len(test_classes))"
   ]
  },
  {
   "cell_type": "code",
   "execution_count": 6,
   "metadata": {},
   "outputs": [],
   "source": [
    "vectorizer = TfidfVectorizer(\n",
    "    stop_words = stopwords,\n",
    "    tokenizer = tokenize\n",
    ")\n",
    "\n",
    "Xvector_train = vectorizer.fit_transform(train_sentences)\n",
    "\n",
    "Xvector_test = vectorizer.transform(test_sentences)"
   ]
  },
  {
   "cell_type": "code",
   "execution_count": 7,
   "metadata": {},
   "outputs": [],
   "source": [
    "ros = RandomOverSampler(random_state = 42)\n",
    "X_over, y_over = ros.fit_resample(Xvector_train, train_classes)"
   ]
  },
  {
   "cell_type": "markdown",
   "metadata": {},
   "source": [
    "## Multinomial NB"
   ]
  },
  {
   "cell_type": "code",
   "execution_count": 8,
   "metadata": {},
   "outputs": [
    {
     "data": {
      "text/plain": [
       "MultinomialNB()"
      ]
     },
     "execution_count": 8,
     "metadata": {},
     "output_type": "execute_result"
    }
   ],
   "source": [
    "multinomial_nb_model = MultinomialNB()\n",
    "multinomial_nb_model.fit(X_over, y_over)"
   ]
  },
  {
   "cell_type": "code",
   "execution_count": 9,
   "metadata": {},
   "outputs": [
    {
     "data": {
      "text/plain": [
       "0.694"
      ]
     },
     "execution_count": 9,
     "metadata": {},
     "output_type": "execute_result"
    }
   ],
   "source": [
    "multinomial_nb_model.score(Xvector_test, test_classes)"
   ]
  },
  {
   "cell_type": "code",
   "execution_count": 10,
   "metadata": {},
   "outputs": [
    {
     "name": "stdout",
     "output_type": "stream",
     "text": [
      "              precision    recall  f1-score   support\n",
      "\n",
      "           0       0.85      0.76      0.80       138\n",
      "           1       0.72      0.52      0.60        94\n",
      "           2       0.33      0.78      0.47         9\n",
      "           3       0.61      0.66      0.63        65\n",
      "           4       0.57      0.79      0.66        81\n",
      "           5       0.77      0.70      0.73       113\n",
      "\n",
      "    accuracy                           0.69       500\n",
      "   macro avg       0.64      0.70      0.65       500\n",
      "weighted avg       0.72      0.69      0.70       500\n",
      "\n"
     ]
    }
   ],
   "source": [
    "predicted_multinomial_nb = multinomial_nb_model.predict(Xvector_test)\n",
    "print(classification_report(test_classes, predicted_multinomial_nb, zero_division = 0))"
   ]
  },
  {
   "cell_type": "code",
   "execution_count": 11,
   "metadata": {},
   "outputs": [
    {
     "data": {
      "image/png": "[encoded data removed]",
      "text/plain": [
       "<Figure size 432x288 with 2 Axes>"
      ]
     },
     "metadata": {
      "needs_background": "light"
     },
     "output_type": "display_data"
    }
   ],
   "source": [
    "nb_cm = confusion_matrix(test_classes, predicted_multinomial_nb)\n",
    "sns.heatmap(nb_cm, annot = True)\n",
    "plt.show()"
   ]
  },
  {
   "cell_type": "code",
   "execution_count": 12,
   "metadata": {},
   "outputs": [
    {
     "name": "stdout",
     "output_type": "stream",
     "text": [
      "0.694\n"
     ]
    }
   ],
   "source": [
    "print(accuracy_score(test_classes, predicted_multinomial_nb))"
   ]
  },
  {
   "cell_type": "markdown",
   "metadata": {},
   "source": [
    "## Bernoulli NB"
   ]
  },
  {
   "cell_type": "code",
   "execution_count": 13,
   "metadata": {},
   "outputs": [
    {
     "data": {
      "text/plain": [
       "BernoulliNB()"
      ]
     },
     "execution_count": 13,
     "metadata": {},
     "output_type": "execute_result"
    }
   ],
   "source": [
    "bernoulli_nb_model = BernoulliNB()\n",
    "bernoulli_nb_model.fit(X_over, y_over)"
   ]
  },
  {
   "cell_type": "code",
   "execution_count": 14,
   "metadata": {},
   "outputs": [
    {
     "name": "stdout",
     "output_type": "stream",
     "text": [
      "              precision    recall  f1-score   support\n",
      "\n",
      "           0       0.25      0.43      0.31        79\n",
      "           1       0.38      0.80      0.52        45\n",
      "           2       1.00      0.07      0.13       134\n",
      "           3       0.58      0.69      0.63        55\n",
      "           4       0.72      0.59      0.65        98\n",
      "           5       0.67      0.85      0.75        89\n",
      "\n",
      "    accuracy                           0.50       500\n",
      "   macro avg       0.60      0.57      0.50       500\n",
      "weighted avg       0.67      0.50      0.46       500\n",
      "\n"
     ]
    }
   ],
   "source": [
    "predicted_bernoulli_nb = bernoulli_nb_model.predict(Xvector_test)\n",
    "print(classification_report(predicted_bernoulli_nb, test_classes, zero_division = 0))"
   ]
  },
  {
   "cell_type": "code",
   "execution_count": 15,
   "metadata": {},
   "outputs": [
    {
     "data": {
      "image/png": "[encoded data removed]",
      "text/plain": [
       "<Figure size 432x288 with 2 Axes>"
      ]
     },
     "metadata": {
      "needs_background": "light"
     },
     "output_type": "display_data"
    }
   ],
   "source": [
    "bernoulli_nb_cm = confusion_matrix(test_classes, predicted_bernoulli_nb)\n",
    "sns.heatmap(bernoulli_nb_cm, annot = True)\n",
    "plt.show()"
   ]
  },
  {
   "cell_type": "code",
   "execution_count": 16,
   "metadata": {},
   "outputs": [
    {
     "name": "stdout",
     "output_type": "stream",
     "text": [
      "0.502\n"
     ]
    }
   ],
   "source": [
    "print(accuracy_score(predicted_bernoulli_nb, test_classes))"
   ]
  }
 ],
 "metadata": {
  "kernelspec": {
   "display_name": "Python 3.9.7 64-bit",
   "language": "python",
   "name": "python3"
  },
  "language_info": {
   "codemirror_mode": {
    "name": "ipython",
    "version": 3
   },
   "file_extension": ".py",
   "mimetype": "text/x-python",
   "name": "python",
   "nbconvert_exporter": "python",
   "pygments_lexer": "ipython3",
   "version": "3.9.7"
  },
  "orig_nbformat": 4,
  "vscode": {
   "interpreter": {
    "hash": "bea42e1b0e07028483ba0ff26b9b4dc4fa162e9d0ccb6b0507d54b9d42d30653"
   }
  }
 },
 "nbformat": 4,
 "nbformat_minor": 2
}
